{
 "cells": [
  {
   "cell_type": "code",
   "execution_count": 2,
   "metadata": {},
   "outputs": [
    {
     "data": {
      "image/png": "[encoded data removed]",
      "text/plain": [
       "<Figure size 432x288 with 1 Axes>"
      ]
     },
     "metadata": {
      "needs_background": "light"
     },
     "output_type": "display_data"
    },
    {
     "data": {
      "text/plain": [
       "<Figure size 144x144 with 0 Axes>"
      ]
     },
     "metadata": {},
     "output_type": "display_data"
    }
   ],
   "source": [
    "#Solving the given diferential equation in partial derivatives with Crank Nicolson method\n",
    "import numpy as np\n",
    "import math\n",
    "import matplotlib.pyplot as plt\n",
    "\n",
    "#Declaring variables, vectors and arrays\n",
    "l=100\n",
    "n = 1+l\n",
    "b = (-l)/2\n",
    "c = 1-l\n",
    "d = l/2\n",
    "m= 50\n",
    "\n",
    "w= np.zeros(m)\n",
    "x = np.zeros(m)\n",
    "P = np.zeros([m,m])\n",
    "A = np.zeros([m,m])\n",
    "B = np.zeros([m,m])\n",
    "\n",
    "#Vector x with the spatial step\n",
    "for i in range(m):\n",
    "    x[i]= i*0.02\n",
    "    \n",
    "#Matrix A \n",
    "for i in range(m):\n",
    "        A[i][i] = n\n",
    "        A[i][i-1] = b\n",
    "        A[i-1][i] = b\n",
    "        A[0][m-1] = 0\n",
    "        A[m-1][0] = 0\n",
    "#Matrix B\n",
    "for i in range(m):\n",
    "        B[i][i] = c\n",
    "        B[i][i-1] = d\n",
    "        B[i-1][i] = d\n",
    "        B[0][m-1] = 0\n",
    "        B[m-1][0] = 0\n",
    "\n",
    "#np.set_printoptions(threshold=np.inf) to see the whole matrix\n",
    "\n",
    "#Inverse of matrix A\n",
    "Ainv=np.linalg.inv(A)\n",
    "\n",
    "#Multiplying inverse matrix A and matrix B\n",
    "S= np.dot(Ainv,B)\n",
    "\n",
    "#Vector w with the initial condition for every x \n",
    "for i in range(m):\n",
    "    w[i] = math.exp(i*0.02)\n",
    "\n",
    "#Multiplying the first vector w with matrix S, remember that S is the multiplication of A^-1 and B\n",
    "G = w.dot(S)\n",
    "\n",
    "#Multiplying every vector created with S and save them in matrix P column by column \n",
    "for i in range(m):\n",
    "    P[:,1] = G\n",
    "    P[:,i] = P[:,i-1].dot(S)\n",
    "\n",
    "#Changing the first and last row of matrix P by the initial conditions in x=0 and x=1 \n",
    "for i in range(m):\n",
    "    P[1][i] = math.exp(2*i*0.02)\n",
    "    P[m-1][i] = math.exp(2*i*0.02+1)\n",
    "#Plot P and x \n",
    "plt.plot(x,P)\n",
    "plt.figure(figsize=(2,2))\n",
    "plt.savefig('graph1.png')\n",
    "plt.show()"
   ]
  }
 ],
 "metadata": {
  "kernelspec": {
   "display_name": "Python 3",
   "language": "python",
   "name": "python3"
  },
  "language_info": {
   "codemirror_mode": {
    "name": "ipython",
    "version": 3
   },
   "file_extension": ".py",
   "mimetype": "text/x-python",
   "name": "python",
   "nbconvert_exporter": "python",
   "pygments_lexer": "ipython3",
   "version": "3.7.4"
  }
 },
 "nbformat": 4,
 "nbformat_minor": 2
}
